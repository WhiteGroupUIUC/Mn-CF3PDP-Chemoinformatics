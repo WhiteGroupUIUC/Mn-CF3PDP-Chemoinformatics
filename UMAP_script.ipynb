{
 "cells": [
  {
   "cell_type": "code",
   "execution_count": 1,
   "id": "b60ae816",
   "metadata": {},
   "outputs": [
    {
     "name": "stderr",
     "output_type": "stream",
     "text": [
      "/Users/jacobweaver/opt/anaconda3/envs/my-rdkit-env/lib/python3.9/site-packages/tqdm/auto.py:22: TqdmWarning: IProgress not found. Please update jupyter and ipywidgets. See https://ipywidgets.readthedocs.io/en/stable/user_install.html\n",
      "  from .autonotebook import tqdm as notebook_tqdm\n"
     ]
    }
   ],
   "source": [
    "#Initialization\n",
    "\n",
    "import sys\n",
    "sys.path.append('/usr/local/lib/python3.7/site-packages/')\n",
    "\n",
    "import os\n",
    "import time\n",
    "from typing import List\n",
    "\n",
    "import pandas as pd\n",
    "import numpy as np\n",
    "\n",
    "import seaborn as sns\n",
    "import matplotlib.pyplot as plt\n",
    "\n",
    "from rdkit import Chem, DataStructs\n",
    "from rdkit.Chem.rdchem import Mol\n",
    "from rdkit.Chem.MolStandardize.rdMolStandardize import LargestFragmentChooser\n",
    "\n",
    "from sklearn.decomposition import PCA\n",
    "from sklearn.manifold import TSNE\n",
    "import umap\n",
    "import hdbscan"
   ]
  },
  {
   "cell_type": "code",
   "execution_count": 2,
   "id": "750a2589",
   "metadata": {},
   "outputs": [],
   "source": [
    "# Silence non-critical RDKit warnings to minimize unnecessary outputs\n",
    "\n",
    "from rdkit import RDLogger\n",
    "lg = RDLogger.logger()\n",
    "lg.setLevel(RDLogger.CRITICAL)"
   ]
  },
  {
   "cell_type": "code",
   "execution_count": 3,
   "id": "9d3cd246",
   "metadata": {},
   "outputs": [],
   "source": [
    "#Compute RDKit Topological Fingerprint\n",
    "\n",
    "def compute_RDKFingerprint(smiles_list: List[str]):\n",
    "    \"\"\" Computes RDKit Fingerprints \"\"\"\n",
    "    \n",
    "    keep_idx = []\n",
    "    descriptors = []\n",
    "    for i, smiles in enumerate(smiles_list):\n",
    "        RDKFingerprint = _compute_single_RDKFingerprint(smiles)\n",
    "        if RDKFingerprint is not None:\n",
    "            keep_idx.append(i)\n",
    "            descriptors.append(RDKFingerprint)\n",
    "\n",
    "    return np.vstack(descriptors), keep_idx\n",
    "\n",
    "def _compute_single_RDKFingerprint(smiles: str):\n",
    "    try:\n",
    "        mol = Chem.MolFromSmiles(smiles)\n",
    "    except Exception as E:\n",
    "        return None\n",
    "\n",
    "    if mol:\n",
    "        mol = [mol]\n",
    "        fp = [Chem.RDKFingerprint(x) for x in mol]\n",
    "        return np.array(fp)\n",
    "    \n",
    "    return None"
   ]
  },
  {
   "cell_type": "code",
   "execution_count": 4,
   "id": "eea34212",
   "metadata": {},
   "outputs": [],
   "source": [
    "#Load Data\n",
    "\n",
    "RKC = pd.read_csv(\"UMAP_input.csv\")\n",
    "\n",
    "RKC_descriptors = compute_RDKFingerprint(RKC[\"smiles\"])\n",
    "\n",
    "# Compute desrciptors and keep track of which failed to featurize\n",
    "RKC_RDKFingerprint_descriptors, RKC_keep_idx = compute_RDKFingerprint(RKC[\"smiles\"])\n",
    "\n",
    "# Only keep those that sucessfully featurized\n",
    "RKC = RKC.iloc[RKC_keep_idx]"
   ]
  },
  {
   "cell_type": "code",
   "execution_count": 5,
   "id": "f454eb70",
   "metadata": {},
   "outputs": [
    {
     "name": "stderr",
     "output_type": "stream",
     "text": [
      "/Users/jacobweaver/opt/anaconda3/envs/my-rdkit-env/lib/python3.9/site-packages/umap/umap_.py:1802: UserWarning: gradient function is not yet implemented for jaccard distance metric; inverse_transform will be unavailable\n",
      "  warn(\n"
     ]
    }
   ],
   "source": [
    "#Run UMAP Calculation and Export Output as .csv\n",
    "\n",
    "import csv\n",
    "\n",
    "\n",
    "umap_model_global = umap.UMAP(metric = \"jaccard\",\n",
    "                               n_neighbors = 50,\n",
    "                               n_components = 2,\n",
    "                               low_memory = False,\n",
    "                               min_dist = 0.005)\n",
    "X_umap_global = umap_model_global.fit_transform(RKC_RDKFingerprint_descriptors)\n",
    "RKC[\"UMAP_0\"], RKC[\"UMAP_1\"] = X_umap_global[:,0], X_umap_global[:,1]\n",
    "\n",
    "header = ['name', 'smiles', 'UMAP_0', 'UMAP_1']\n",
    "data1 = RKC['name']\n",
    "data2 = RKC['smiles']\n",
    "\n",
    "with open('UMAP_output.csv', 'w', newline='') as f:    \n",
    "    writer = csv.writer(f)\n",
    "    writer.writerow(data1)\n",
    "    writer.writerow(data2) \n",
    "    writer.writerow(RKC[\"UMAP_0\"])\n",
    "    writer.writerow(RKC[\"UMAP_1\"])"
   ]
  },
  {
   "cell_type": "code",
   "execution_count": null,
   "id": "2e023d3b",
   "metadata": {},
   "outputs": [],
   "source": []
  }
 ],
 "metadata": {
  "kernelspec": {
   "display_name": "Python 3 (ipykernel)",
   "language": "python",
   "name": "python3"
  },
  "language_info": {
   "codemirror_mode": {
    "name": "ipython",
    "version": 3
   },
   "file_extension": ".py",
   "mimetype": "text/x-python",
   "name": "python",
   "nbconvert_exporter": "python",
   "pygments_lexer": "ipython3",
   "version": "3.9.9"
  }
 },
 "nbformat": 4,
 "nbformat_minor": 5
}
